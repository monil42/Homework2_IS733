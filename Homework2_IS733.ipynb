{
 "cells": [
  {
   "cell_type": "code",
   "execution_count": 22,
   "id": "999cff60",
   "metadata": {},
   "outputs": [],
   "source": [
    "import pandas as pd\n",
    "import numpy as np\n",
    "import ydata_profiling as pp\n",
    "from sklearn.metrics import roc_auc_score\n",
    "from sklearn.tree import DecisionTreeClassifier\n",
    "from sklearn.preprocessing import LabelEncoder\n",
    "from sklearn.model_selection import train_test_split\n",
    "from sklearn.model_selection import KFold \n",
    "from sklearn.model_selection import cross_val_score\n",
    "from sklearn.dummy import DummyClassifier\n",
    "from sklearn.linear_model import LogisticRegression\n",
    "from sklearn.naive_bayes import MultinomialNB\n",
    "from sklearn.naive_bayes import GaussianNB\n",
    "from sklearn import tree\n",
    "from sklearn.ensemble import RandomForestClassifier\n",
    "from sklearn.metrics import classification_report, confusion_matrix, roc_auc_score, accuracy_score, roc_curve\n",
    "from matplotlib import pyplot as plt\n",
    "from sklearn import svm\n",
    "from sklearn.datasets import make_classification"
   ]
  },
  {
   "cell_type": "code",
   "execution_count": 4,
   "id": "e2d4f4f2",
   "metadata": {},
   "outputs": [],
   "source": [
    "df = pd.read_csv(r'C:\\Users\\monil\\OneDrive\\Desktop\\monil Ms\\733 Data mining\\red_wine.csv')"
   ]
  },
  {
   "cell_type": "code",
   "execution_count": 5,
   "id": "e44ca914",
   "metadata": {},
   "outputs": [
    {
     "data": {
      "text/plain": [
       "556"
      ]
     },
     "execution_count": 5,
     "metadata": {},
     "output_type": "execute_result"
    }
   ],
   "source": [
    "df = df.drop_duplicates(keep = 'last')\n",
    "len(df)"
   ]
  },
  {
   "cell_type": "code",
   "execution_count": 6,
   "id": "6512e0af",
   "metadata": {},
   "outputs": [
    {
     "data": {
      "text/html": [
       "<div>\n",
       "<style scoped>\n",
       "    .dataframe tbody tr th:only-of-type {\n",
       "        vertical-align: middle;\n",
       "    }\n",
       "\n",
       "    .dataframe tbody tr th {\n",
       "        vertical-align: top;\n",
       "    }\n",
       "\n",
       "    .dataframe thead th {\n",
       "        text-align: right;\n",
       "    }\n",
       "</style>\n",
       "<table border=\"1\" class=\"dataframe\">\n",
       "  <thead>\n",
       "    <tr style=\"text-align: right;\">\n",
       "      <th></th>\n",
       "      <th>citric acid</th>\n",
       "      <th>sulphates</th>\n",
       "      <th>alcohol</th>\n",
       "      <th>type</th>\n",
       "    </tr>\n",
       "  </thead>\n",
       "  <tbody>\n",
       "    <tr>\n",
       "      <th>0</th>\n",
       "      <td>0.49</td>\n",
       "      <td>0.63</td>\n",
       "      <td>8.0</td>\n",
       "      <td>1</td>\n",
       "    </tr>\n",
       "    <tr>\n",
       "      <th>1</th>\n",
       "      <td>0.66</td>\n",
       "      <td>0.57</td>\n",
       "      <td>8.3</td>\n",
       "      <td>1</td>\n",
       "    </tr>\n",
       "    <tr>\n",
       "      <th>2</th>\n",
       "      <td>0.23</td>\n",
       "      <td>0.44</td>\n",
       "      <td>8.5</td>\n",
       "      <td>0</td>\n",
       "    </tr>\n",
       "    <tr>\n",
       "      <th>3</th>\n",
       "      <td>0.44</td>\n",
       "      <td>0.84</td>\n",
       "      <td>8.6</td>\n",
       "      <td>1</td>\n",
       "    </tr>\n",
       "    <tr>\n",
       "      <th>4</th>\n",
       "      <td>0.08</td>\n",
       "      <td>0.50</td>\n",
       "      <td>8.7</td>\n",
       "      <td>1</td>\n",
       "    </tr>\n",
       "  </tbody>\n",
       "</table>\n",
       "</div>"
      ],
      "text/plain": [
       "   citric acid  sulphates  alcohol  type\n",
       "0         0.49       0.63      8.0     1\n",
       "1         0.66       0.57      8.3     1\n",
       "2         0.23       0.44      8.5     0\n",
       "3         0.44       0.84      8.6     1\n",
       "4         0.08       0.50      8.7     1"
      ]
     },
     "execution_count": 6,
     "metadata": {},
     "output_type": "execute_result"
    }
   ],
   "source": [
    "df['type'] = LabelEncoder().fit_transform(df['type'])\n",
    "df.head()"
   ]
  },
  {
   "cell_type": "code",
   "execution_count": 7,
   "id": "9955653e",
   "metadata": {},
   "outputs": [
    {
     "data": {
      "text/html": [
       "<div>\n",
       "<style scoped>\n",
       "    .dataframe tbody tr th:only-of-type {\n",
       "        vertical-align: middle;\n",
       "    }\n",
       "\n",
       "    .dataframe tbody tr th {\n",
       "        vertical-align: top;\n",
       "    }\n",
       "\n",
       "    .dataframe thead th {\n",
       "        text-align: right;\n",
       "    }\n",
       "</style>\n",
       "<table border=\"1\" class=\"dataframe\">\n",
       "  <thead>\n",
       "    <tr style=\"text-align: right;\">\n",
       "      <th></th>\n",
       "      <th>citric acid</th>\n",
       "      <th>sulphates</th>\n",
       "      <th>alcohol</th>\n",
       "    </tr>\n",
       "  </thead>\n",
       "  <tbody>\n",
       "    <tr>\n",
       "      <th>0</th>\n",
       "      <td>0.49</td>\n",
       "      <td>0.63</td>\n",
       "      <td>8.0</td>\n",
       "    </tr>\n",
       "    <tr>\n",
       "      <th>1</th>\n",
       "      <td>0.66</td>\n",
       "      <td>0.57</td>\n",
       "      <td>8.3</td>\n",
       "    </tr>\n",
       "    <tr>\n",
       "      <th>2</th>\n",
       "      <td>0.23</td>\n",
       "      <td>0.44</td>\n",
       "      <td>8.5</td>\n",
       "    </tr>\n",
       "    <tr>\n",
       "      <th>3</th>\n",
       "      <td>0.44</td>\n",
       "      <td>0.84</td>\n",
       "      <td>8.6</td>\n",
       "    </tr>\n",
       "    <tr>\n",
       "      <th>4</th>\n",
       "      <td>0.08</td>\n",
       "      <td>0.50</td>\n",
       "      <td>8.7</td>\n",
       "    </tr>\n",
       "  </tbody>\n",
       "</table>\n",
       "</div>"
      ],
      "text/plain": [
       "   citric acid  sulphates  alcohol\n",
       "0         0.49       0.63      8.0\n",
       "1         0.66       0.57      8.3\n",
       "2         0.23       0.44      8.5\n",
       "3         0.44       0.84      8.6\n",
       "4         0.08       0.50      8.7"
      ]
     },
     "execution_count": 7,
     "metadata": {},
     "output_type": "execute_result"
    }
   ],
   "source": [
    "X = df.drop('type', axis = 1)\n",
    "X.head()"
   ]
  },
  {
   "cell_type": "code",
   "execution_count": 8,
   "id": "d4fb51c6",
   "metadata": {},
   "outputs": [
    {
     "data": {
      "text/plain": [
       "0    1\n",
       "1    1\n",
       "2    0\n",
       "3    1\n",
       "4    1\n",
       "5    1\n",
       "6    1\n",
       "7    1\n",
       "8    0\n",
       "9    0\n",
       "Name: type, dtype: int32"
      ]
     },
     "execution_count": 8,
     "metadata": {},
     "output_type": "execute_result"
    }
   ],
   "source": [
    "y = df['type']\n",
    "y.head(10)"
   ]
  },
  {
   "cell_type": "code",
   "execution_count": 9,
   "id": "f4df94b9",
   "metadata": {},
   "outputs": [],
   "source": [
    "test_size = 0.2  # the proportion of the data to include in the test split\n",
    "random_state = 0  # the seed used by the random number generator\n",
    "\n",
    "X_train, X_test, y_train, y_test = train_test_split(X, y, test_size=test_size, random_state=random_state)"
   ]
  },
  {
   "cell_type": "code",
   "execution_count": 35,
   "id": "9301efc8",
   "metadata": {},
   "outputs": [
    {
     "name": "stdout",
     "output_type": "stream",
     "text": [
      "ZeroR Accuracy  52.727272727272734\n"
     ]
    }
   ],
   "source": [
    "k = 10\n",
    "kf = KFold(n_splits=k, random_state=None)\n",
    "\n",
    "dummy_clf = DummyClassifier(strategy = 'most_frequent')\n",
    "dummy_clf.fit(X_train, y_train)\n",
    "dummy_clf.predict(X_train)\n",
    "\n",
    "#k-fold cross validation\n",
    "ZeroR_result = cross_val_score(dummy_clf, X_test, y_test, cv = kf)\n",
    "\n",
    "print(\"ZeroR Accuracy \", 100-(ZeroR_result.mean()*100))"
   ]
  },
  {
   "cell_type": "code",
   "execution_count": 15,
   "id": "8db9559d",
   "metadata": {},
   "outputs": [
    {
     "name": "stdout",
     "output_type": "stream",
     "text": [
      "Logistic Regression accuracy: 76.74242424242424%\n"
     ]
    }
   ],
   "source": [
    "# Define the number of folds for cross-validation\n",
    "num_folds = 10\n",
    "\n",
    "# Create a KFold object with the specified number of folds\n",
    "kfold = KFold(n_splits=num_folds, random_state=None)\n",
    "\n",
    "# Create a logistic regression model with a maximum of 1000 iterations and a random seed of 0\n",
    "lr_model = LogisticRegression(random_state=0, max_iter=1000)\n",
    "\n",
    "# Train the logistic regression model on the training data\n",
    "lr_model.fit(X_train, y_train)\n",
    "\n",
    "# Compute the accuracy of the logistic regression model using cross-validation\n",
    "lr_accuracy = cross_val_score(lr_model, X_test, y_test, cv=kfold).mean() * 100\n",
    "\n",
    "# Print the logistic regression accuracy\n",
    "print(f\"Logistic Regression accuracy: {lr_accuracy}%\")"
   ]
  },
  {
   "cell_type": "code",
   "execution_count": 16,
   "id": "a873dc1a",
   "metadata": {},
   "outputs": [
    {
     "name": "stdout",
     "output_type": "stream",
     "text": [
      "Logistic Regression AUC: 0.8991060025542784\n"
     ]
    }
   ],
   "source": [
    "# Initialize a list of zeros with the same length as y_test\n",
    "prob = np.zeros(len(y_test))\n",
    "\n",
    "# Predict the probabilities for X_test using model_lr\n",
    "lr_probs = lr_model.predict_proba(X_test)[:, 1]\n",
    "\n",
    "# Calculate the area under the ROC curve\n",
    "lr_auc = roc_auc_score(y_test, lr_probs)\n",
    "\n",
    "# Print the logistic regression AUC score\n",
    "print(f\"Logistic Regression AUC: {lr_auc}\")"
   ]
  },
  {
   "cell_type": "code",
   "execution_count": 23,
   "id": "e2a96c1e",
   "metadata": {},
   "outputs": [
    {
     "name": "stdout",
     "output_type": "stream",
     "text": [
      "Naive Bayes accuracy: 84.77%\n"
     ]
    }
   ],
   "source": [
    "k = 10\n",
    "kf = KFold(n_splits=k, random_state=None)\n",
    "\n",
    "gnb = GaussianNB() \n",
    "gnb.fit(X_train, y_train)\n",
    "gnb_scores = cross_val_score(gnb, X_test, y_test, cv=kf)\n",
    "\n",
    "nb_accuracy = gnb_scores.mean() * 100\n",
    "print(\"Naive Bayes accuracy: {:.2f}%\".format(nb_accuracy))"
   ]
  },
  {
   "cell_type": "code",
   "execution_count": 26,
   "id": "fd587a13",
   "metadata": {},
   "outputs": [
    {
     "name": "stdout",
     "output_type": "stream",
     "text": [
      "Naive Bayes AUC: 0.8863346104725415\n"
     ]
    }
   ],
   "source": [
    "# Initialize probability list\n",
    "model_NB = GaussianNB()\n",
    "\n",
    "# Train model on training data\n",
    "model_NB.fit(X_train, y_train)\n",
    "\n",
    "prob = [0] * len(y_test)\n",
    "\n",
    "# Make Naive Bayes predictions on test set\n",
    "NB_probs = model_NB.predict_proba(X_test)\n",
    "\n",
    "# Extract probabilities of positive outcomes\n",
    "NB_probs = NB_probs[:, 1]\n",
    "\n",
    "# Calculate area under ROC curve (AUROC)\n",
    "NB_auc = roc_auc_score(y_test, NB_probs)\n",
    "\n",
    "# Print AUROC\n",
    "print(\"Naive Bayes AUC: {}\".format(NB_auc))"
   ]
  },
  {
   "cell_type": "code",
   "execution_count": 27,
   "id": "6a23c1a8",
   "metadata": {},
   "outputs": [
    {
     "name": "stdout",
     "output_type": "stream",
     "text": [
      "Decision Tree accuracy: 84.62121212121211%\n"
     ]
    }
   ],
   "source": [
    "k = 10\n",
    "\n",
    "# Initialize KFold object\n",
    "kf = KFold(n_splits=k, shuffle=True, random_state=None)\n",
    "\n",
    "# Create decision tree model and fit to training data\n",
    "model_tree = DecisionTreeClassifier() \n",
    "model_tree.fit(X_train, y_train)\n",
    "\n",
    "# Perform k-fold cross validation\n",
    "tree_result = cross_val_score(model_tree, X_test, y_test, cv=kf)\n",
    "\n",
    "# Print accuracy of decision tree model\n",
    "print(f\"Decision Tree accuracy: {tree_result.mean()*100}%\")"
   ]
  },
  {
   "cell_type": "code",
   "execution_count": 28,
   "id": "ae948aa9",
   "metadata": {},
   "outputs": [
    {
     "name": "stdout",
     "output_type": "stream",
     "text": [
      "Decision Tree AUC:  0.7946998722860792\n"
     ]
    }
   ],
   "source": [
    "#prediction probabilities \n",
    "prob = [0 for _ in range(len(y_test))]\n",
    "tree_probs = model_tree.predict_proba(X_test)\n",
    "\n",
    "#keep postive outcomes \n",
    "tree_probs = tree_probs[:, 1]\n",
    "\n",
    "#calculate AUROC\n",
    "tree_auc = roc_auc_score(y_test, tree_probs)\n",
    "print('Decision Tree AUC: ', tree_auc)"
   ]
  },
  {
   "cell_type": "code",
   "execution_count": 29,
   "id": "f91371d2",
   "metadata": {},
   "outputs": [
    {
     "name": "stdout",
     "output_type": "stream",
     "text": [
      "SVM accuracy: 83.93939393939395%\n"
     ]
    }
   ],
   "source": [
    "NUM_FOLDS = 10\n",
    "kfold = KFold(n_splits=NUM_FOLDS, random_state=None)\n",
    "\n",
    "svm_model = svm.SVC(kernel='poly', C=2, degree=3, tol=1e-3, max_iter=-1, coef0=0.05, gamma=0.1, probability=True)\n",
    "svm_model.fit(X_train, y_train)\n",
    "svm_accuracy = cross_val_score(svm_model, X_test, y_test, cv=kfold)\n",
    "\n",
    "print(f\"SVM accuracy: {svm_accuracy.mean() * 100}%\")"
   ]
  },
  {
   "cell_type": "code",
   "execution_count": 31,
   "id": "7ad1f22b",
   "metadata": {},
   "outputs": [
    {
     "name": "stdout",
     "output_type": "stream",
     "text": [
      "SVM AUC:  0.9067688378033206\n"
     ]
    }
   ],
   "source": [
    "prob = [0 for _ in range(len(y_test))]\n",
    "SVM_probs = svm_model.predict_proba(X_test)\n",
    "\n",
    "#keep postive outcomes \n",
    "SVM_probs = SVM_probs[:, 1]\n",
    "\n",
    "#calculate AUROC\n",
    "SVM_auc = roc_auc_score(y_test, SVM_probs)\n",
    "print('SVM AUC: ', SVM_auc)"
   ]
  },
  {
   "cell_type": "code",
   "execution_count": 32,
   "id": "65e68841",
   "metadata": {},
   "outputs": [
    {
     "name": "stdout",
     "output_type": "stream",
     "text": [
      "Random Forest accuracy: 86.66666666666666\n"
     ]
    }
   ],
   "source": [
    "k = 10\n",
    "kf = KFold(n_splits=k, random_state=None)\n",
    "\n",
    "model_rf = RandomForestClassifier(max_depth = 3, random_state = 0)\n",
    "model_rf.fit(X_train,y_train)\n",
    "RF_result = cross_val_score(model_rf, X_test, y_test, cv = kf)\n",
    "\n",
    "print(\"Random Forest accuracy: {}\".format(RF_result.mean()*100))"
   ]
  },
  {
   "cell_type": "code",
   "execution_count": 34,
   "id": "c58a56bc",
   "metadata": {},
   "outputs": [
    {
     "name": "stdout",
     "output_type": "stream",
     "text": [
      "Random Forest AUC:  0.9179438058748404\n"
     ]
    }
   ],
   "source": [
    "prob = [0 for _ in range(len(y_test))]\n",
    "rf_probs = model_rf.predict_proba(X_test)\n",
    "\n",
    "#keep postive outcomes \n",
    "rf_probs = rf_probs[:, 1]\n",
    "\n",
    "#calculate AUROC\n",
    "rf_auc = roc_auc_score(y_test, rf_probs)\n",
    "print('Random Forest AUC: ', rf_auc)"
   ]
  },
  {
   "cell_type": "code",
   "execution_count": 55,
   "id": "f8ec8b5b",
   "metadata": {},
   "outputs": [
    {
     "data": {
      "image/png": "[encoded data removed]",
      "text/plain": [
       "<Figure size 640x480 with 1 Axes>"
      ]
     },
     "metadata": {},
     "output_type": "display_data"
    }
   ],
   "source": [
    "import matplotlib.pyplot as plt\n",
    "from sklearn.metrics import roc_curve, auc\n",
    "\n",
    "# Calculate ROC curve and AUC score for Random Forest model\n",
    "rf_fpr, rf_tpr, _ = roc_curve(y_test, rf_probs)\n",
    "rf_auc = auc(rf_fpr, rf_tpr)\n",
    "\n",
    "# Plot ROC curve for Random Forest model\n",
    "plt.plot(rf_fpr, rf_tpr, marker='.', label='Random Forest (AUC-ROC = {:.3f})'.format(rf_auc))\n",
    "\n",
    "# Set plot title and axis labels\n",
    "plt.title('Receiver Operating Characteristic (ROC) Curve')\n",
    "plt.xlabel('False Positive Rate')\n",
    "plt.ylabel('True Positive Rate')\n",
    "\n",
    "# Add legend to plot and show\n",
    "plt.legend()\n",
    "plt.show()\n",
    "\n"
   ]
  },
  {
   "cell_type": "code",
   "execution_count": 36,
   "id": "fc5a0962",
   "metadata": {},
   "outputs": [],
   "source": [
    "df2 = pd.read_csv(r'C:\\Users\\monil\\OneDrive\\Desktop\\monil Ms\\733 Data mining\\white_wine.csv')"
   ]
  },
  {
   "cell_type": "code",
   "execution_count": 38,
   "id": "2d5b2520",
   "metadata": {},
   "outputs": [
    {
     "data": {
      "text/plain": [
       "(78, 3)"
      ]
     },
     "execution_count": 38,
     "metadata": {},
     "output_type": "execute_result"
    }
   ],
   "source": [
    "X = df2.drop('type', axis = 1)\n",
    "X.head()\n",
    "X.shape"
   ]
  },
  {
   "cell_type": "code",
   "execution_count": 39,
   "id": "024bd9e6",
   "metadata": {},
   "outputs": [
    {
     "data": {
      "text/plain": [
       "(78,)"
      ]
     },
     "execution_count": 39,
     "metadata": {},
     "output_type": "execute_result"
    }
   ],
   "source": [
    "y = df2['type']\n",
    "y.head(10)\n",
    "y.shape"
   ]
  },
  {
   "cell_type": "code",
   "execution_count": 40,
   "id": "af21f180",
   "metadata": {},
   "outputs": [
    {
     "name": "stdout",
     "output_type": "stream",
     "text": [
      "X_train:  (62, 3)\n",
      "y_train:  (62,)\n",
      "X_test:  (16, 3)\n",
      "y_test  (16,)\n"
     ]
    }
   ],
   "source": [
    "X_train, X_test, y_train, y_test = train_test_split(X, y, test_size = 0.2, random_state = 0)\n",
    "print (\"X_train: \", X_train.shape)\n",
    "print (\"y_train: \", y_train.shape)\n",
    "print(\"X_test: \", X_test.shape)\n",
    "print(\"y_test \", y_test.shape)"
   ]
  },
  {
   "cell_type": "code",
   "execution_count": 41,
   "id": "04fa9d2f",
   "metadata": {},
   "outputs": [
    {
     "name": "stdout",
     "output_type": "stream",
     "text": [
      "Random Forest AUC:  0.923076923076923\n"
     ]
    }
   ],
   "source": [
    "prob = [0 for _ in range(len(y_test))]\n",
    "rf_probs = model_rf.predict_proba(X_test)\n",
    "\n",
    "#keep postive outcomes \n",
    "rf_probs = rf_probs[:, 1]\n",
    "\n",
    "#calculate AUROC\n",
    "rf_auc = roc_auc_score(y_test, rf_probs)\n",
    "print('Random Forest AUC: ', rf_auc)"
   ]
  },
  {
   "cell_type": "code",
   "execution_count": null,
   "id": "367e062d",
   "metadata": {},
   "outputs": [],
   "source": []
  }
 ],
 "metadata": {
  "kernelspec": {
   "display_name": "Python 3 (ipykernel)",
   "language": "python",
   "name": "python3"
  },
  "language_info": {
   "codemirror_mode": {
    "name": "ipython",
    "version": 3
   },
   "file_extension": ".py",
   "mimetype": "text/x-python",
   "name": "python",
   "nbconvert_exporter": "python",
   "pygments_lexer": "ipython3",
   "version": "3.10.8"
  }
 },
 "nbformat": 4,
 "nbformat_minor": 5
}
